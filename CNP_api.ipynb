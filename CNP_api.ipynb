{
 "cells": [
  {
   "cell_type": "code",
   "execution_count": 23,
   "metadata": {},
   "outputs": [],
   "source": [
    "def Text_to_List(input_file):\n",
    "\n",
    "\tDEG_list = []\n",
    "\n",
    "\topen_input_file = open(input_file,'r')\n",
    "\tinput_file_readlines = open_input_file.readlines()\n",
    "\t\n",
    "\tfor i in range(len(input_file_readlines)):\n",
    "\t\tread = input_file_readlines[i]\n",
    "\t\tread = read.replace('\\n','')\n",
    "\t\t\n",
    "\t\t#check whether there are any duplicate genes\n",
    "\t\tif read in DEG_list:\n",
    "\t\t\tprint (\"[WARNING] Duplicate genes in Input file's entry. Caution is required\")\n",
    "\t\t\tprint (\"[WARNING] Checking the whole process is adviced\")\n",
    "\n",
    "\t\tif read not in DEG_list:\n",
    "\t\t\tDEG_list.append(read)\n",
    "\n",
    "\treturn DEG_list"
   ]
  },
  {
   "cell_type": "code",
   "execution_count": 60,
   "metadata": {},
   "outputs": [],
   "source": [
    "def boss_to_dict(user_context):\n",
    "\n",
    "    print (user_context)\n",
    "    print ('[Notice] Proceeding BEST')\n",
    "    \n",
    "    bestQuery = best.BESTQuery({\"keywordA\":['immune regulation'], \"keywordB\":['Gata3'], \"filterObjectName\":\"\",\"topN\":1})\n",
    "    relevantEntities = best.getRelevantBioEntities(bestQuery)\n",
    "    \n",
    "    return relevantEntities\n",
    "   "
   ]
  },
  {
   "cell_type": "code",
   "execution_count": 58,
   "metadata": {},
   "outputs": [],
   "source": [
    "if __name__ == '__main__':\n",
    "\n",
    "    import sys\n",
    "    import argparse\n",
    "    import subprocess\n",
    "    import os\n",
    "    \n",
    "    #importing Korea univ. boss system\n",
    "    program_dir = os.path.split(os.path.realpath('__file__'))\n",
    "    api_lib_path = os.path.abspath('//data/project/hurben/BEST/dmis')\n",
    "    sys.path.insert(0, str(api_lib_path))\n",
    "    import best\n",
    "        "
   ]
  },
  {
   "cell_type": "code",
   "execution_count": 61,
   "metadata": {},
   "outputs": [
    {
     "name": "stdout",
     "output_type": "stream",
     "text": [
      "immune_regulation\n",
      "[Notice] Proceeding BEST\n"
     ]
    },
    {
     "ename": "AttributeError",
     "evalue": "module 'best' has no attribute 'BESTQuery'",
     "output_type": "error",
     "traceback": [
      "\u001b[0;31m---------------------------------------------------------------------------\u001b[0m",
      "\u001b[0;31mAttributeError\u001b[0m                            Traceback (most recent call last)",
      "\u001b[0;32m<ipython-input-61-4d24c4d9805d>\u001b[0m in \u001b[0;36m<module>\u001b[0;34m\u001b[0m\n\u001b[1;32m      1\u001b[0m \u001b[0mDEG_list\u001b[0m \u001b[0;34m=\u001b[0m \u001b[0;34m[\u001b[0m\u001b[0;34m'Gata3'\u001b[0m\u001b[0;34m,\u001b[0m \u001b[0;34m'Trp53'\u001b[0m\u001b[0;34m]\u001b[0m\u001b[0;34m\u001b[0m\u001b[0;34m\u001b[0m\u001b[0m\n\u001b[1;32m      2\u001b[0m \u001b[0mcontext\u001b[0m \u001b[0;34m=\u001b[0m \u001b[0;34m\"immune_regulation\"\u001b[0m\u001b[0;34m\u001b[0m\u001b[0;34m\u001b[0m\u001b[0m\n\u001b[0;32m----> 3\u001b[0;31m \u001b[0mrelevantEntities\u001b[0m \u001b[0;34m=\u001b[0m \u001b[0mboss_to_dict\u001b[0m\u001b[0;34m(\u001b[0m\u001b[0mcontext\u001b[0m\u001b[0;34m)\u001b[0m\u001b[0;34m\u001b[0m\u001b[0;34m\u001b[0m\u001b[0m\n\u001b[0m\u001b[1;32m      4\u001b[0m \u001b[0;34m\u001b[0m\u001b[0m\n\u001b[1;32m      5\u001b[0m \u001b[0mprint\u001b[0m \u001b[0;34m(\u001b[0m\u001b[0mrelevantEntities\u001b[0m\u001b[0;34m)\u001b[0m\u001b[0;34m\u001b[0m\u001b[0;34m\u001b[0m\u001b[0m\n",
      "\u001b[0;32m<ipython-input-60-578e42915015>\u001b[0m in \u001b[0;36mboss_to_dict\u001b[0;34m(user_context)\u001b[0m\n\u001b[1;32m      4\u001b[0m     \u001b[0mprint\u001b[0m \u001b[0;34m(\u001b[0m\u001b[0;34m'[Notice] Proceeding BEST'\u001b[0m\u001b[0;34m)\u001b[0m\u001b[0;34m\u001b[0m\u001b[0;34m\u001b[0m\u001b[0m\n\u001b[1;32m      5\u001b[0m \u001b[0;34m\u001b[0m\u001b[0m\n\u001b[0;32m----> 6\u001b[0;31m     \u001b[0mbestQuery\u001b[0m \u001b[0;34m=\u001b[0m \u001b[0mbest\u001b[0m\u001b[0;34m.\u001b[0m\u001b[0mBESTQuery\u001b[0m\u001b[0;34m(\u001b[0m\u001b[0;34m{\u001b[0m\u001b[0;34m\"keywordA\"\u001b[0m\u001b[0;34m:\u001b[0m\u001b[0;34m[\u001b[0m\u001b[0;34m'immune regulation'\u001b[0m\u001b[0;34m]\u001b[0m\u001b[0;34m,\u001b[0m \u001b[0;34m\"keywordB\"\u001b[0m\u001b[0;34m:\u001b[0m\u001b[0;34m[\u001b[0m\u001b[0;34m'Gata3'\u001b[0m\u001b[0;34m]\u001b[0m\u001b[0;34m,\u001b[0m \u001b[0;34m\"filterObjectName\"\u001b[0m\u001b[0;34m:\u001b[0m\u001b[0;34m\"\"\u001b[0m\u001b[0;34m,\u001b[0m\u001b[0;34m\"topN\"\u001b[0m\u001b[0;34m:\u001b[0m\u001b[0;36m1\u001b[0m\u001b[0;34m}\u001b[0m\u001b[0;34m)\u001b[0m\u001b[0;34m\u001b[0m\u001b[0;34m\u001b[0m\u001b[0m\n\u001b[0m\u001b[1;32m      7\u001b[0m     \u001b[0mrelevantEntities\u001b[0m \u001b[0;34m=\u001b[0m \u001b[0mbest\u001b[0m\u001b[0;34m.\u001b[0m\u001b[0mgetRelevantBioEntities\u001b[0m\u001b[0;34m(\u001b[0m\u001b[0mbestQuery\u001b[0m\u001b[0;34m)\u001b[0m\u001b[0;34m\u001b[0m\u001b[0;34m\u001b[0m\u001b[0m\n\u001b[1;32m      8\u001b[0m \u001b[0;34m\u001b[0m\u001b[0m\n",
      "\u001b[0;31mAttributeError\u001b[0m: module 'best' has no attribute 'BESTQuery'"
     ]
    }
   ],
   "source": [
    "DEG_list = ['Gata3', 'Trp53']\n",
    "context = \"immune_regulation\"\n",
    "relevantEntities = boss_to_dict(context)\n",
    "\n",
    "print (relevantEntities)"
   ]
  }
 ],
 "metadata": {
  "kernelspec": {
   "display_name": "Python 3",
   "language": "python",
   "name": "python3"
  },
  "language_info": {
   "codemirror_mode": {
    "name": "ipython",
    "version": 3
   },
   "file_extension": ".py",
   "mimetype": "text/x-python",
   "name": "python",
   "nbconvert_exporter": "python",
   "pygments_lexer": "ipython3",
   "version": "3.7.1"
  }
 },
 "nbformat": 4,
 "nbformat_minor": 2
}
