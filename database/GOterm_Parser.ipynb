{
 "cells": [
  {
   "cell_type": "code",
   "execution_count": 7,
   "metadata": {},
   "outputs": [],
   "source": [
    "import sys\n",
    "\n",
    "GO_database = 'go-basic.obo'\n",
    "open_file = open(GO_database,'r')\n",
    "file_readlines = open_file.readlines()\n",
    "\n",
    "GO_term_list = []\n",
    "\n",
    "for i in range(len(file_readlines)):\n",
    "    read = file_readlines[i]\n",
    "    read = read.replace('\\n','')\n",
    "    \n",
    "    if '[Term]' == read:\n",
    "        if 'id' in file_readlines[i+1]:\n",
    "            if 'name:' in file_readlines[i+2]:\n",
    "                GO_term = file_readlines[i+2]\n",
    "                GO_term = GO_term.replace('name: ','')\n",
    "                GO_term = GO_term.replace('\\n','')\n",
    "                if GO_term not in GO_term_list:\n",
    "                    GO_term_list.append(GO_term)\n",
    "                    #print GO_term\n",
    "                    \n",
    "#print len(GO_term_list)\n",
    "\n",
    "with open('GO_term.list','w') as f:\n",
    "    for item in GO_term_list:\n",
    "        f.write(\"%s\\n\" % item)"
   ]
  }
 ],
 "metadata": {
  "kernelspec": {
   "display_name": "Python 2",
   "language": "python",
   "name": "python2"
  },
  "language_info": {
   "codemirror_mode": {
    "name": "ipython",
    "version": 2
   },
   "file_extension": ".py",
   "mimetype": "text/x-python",
   "name": "python",
   "nbconvert_exporter": "python",
   "pygments_lexer": "ipython2",
   "version": "2.7.16"
  }
 },
 "nbformat": 4,
 "nbformat_minor": 2
}
